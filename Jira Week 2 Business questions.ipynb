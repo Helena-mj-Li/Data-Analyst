{
 "cells": [
  {
   "cell_type": "markdown",
   "metadata": {},
   "source": [
    "### Please answer below questions using both SQL and Python\n",
    "1. How many products people usually order?\n",
    "2. Which products are ordered the most?\n",
    "3. Which product is most likely to be added first in cart?\n",
    "4. What is the time at which people usually order products?"
   ]
  },
  {
   "cell_type": "code",
   "execution_count": 19,
   "metadata": {},
   "outputs": [],
   "source": [
    "%matplotlib inline\n",
    "import matplotlib.pyplot as plt\n",
    "import seaborn as sns\n",
    "import numpy as np\n",
    "import pandas as pd"
   ]
  },
  {
   "cell_type": "code",
   "execution_count": 2,
   "metadata": {},
   "outputs": [],
   "source": [
    "aisles = pd.read_csv(\"aisles.csv\")\n",
    "departments = pd.read_csv(\"departments.csv\")\n",
    "order_products = pd.read_csv(\"order_products.csv\")\n",
    "orders = pd.read_csv(\"orders.csv\")\n",
    "products = pd.read_csv(\"products.csv\")"
   ]
  },
  {
   "cell_type": "code",
   "execution_count": 3,
   "metadata": {},
   "outputs": [
    {
     "name": "stdout",
     "output_type": "stream",
     "text": [
      "(134, 2)\n",
      "(21, 2)\n",
      "(33819106, 3)\n",
      "(3421083, 6)\n",
      "(49688, 4)\n"
     ]
    }
   ],
   "source": [
    "print(aisles.shape)\n",
    "print(departments.shape)\n",
    "print(order_products.shape)\n",
    "print(orders.shape)\n",
    "print(products.shape)"
   ]
  },
  {
   "cell_type": "code",
   "execution_count": 4,
   "metadata": {},
   "outputs": [
    {
     "name": "stdout",
     "output_type": "stream",
     "text": [
      "<class 'pandas.core.frame.DataFrame'>\n",
      "Int64Index: 49688 entries, 0 to 49687\n",
      "Data columns (total 5 columns):\n",
      " #   Column         Non-Null Count  Dtype \n",
      "---  ------         --------------  ----- \n",
      " 0   aisle_id       49688 non-null  int64 \n",
      " 1   aisle          49688 non-null  object\n",
      " 2   product_id     49688 non-null  int64 \n",
      " 3   product_name   49688 non-null  object\n",
      " 4   department_id  49688 non-null  int64 \n",
      "dtypes: int64(3), object(2)\n",
      "memory usage: 2.3+ MB\n"
     ]
    }
   ],
   "source": [
    "aisles_products = pd.merge(aisles, products, on = \"aisle_id\")\n",
    "aisles_products.info()"
   ]
  },
  {
   "cell_type": "code",
   "execution_count": 5,
   "metadata": {},
   "outputs": [
    {
     "name": "stdout",
     "output_type": "stream",
     "text": [
      "<class 'pandas.core.frame.DataFrame'>\n",
      "Int64Index: 33819106 entries, 0 to 33819105\n",
      "Data columns (total 8 columns):\n",
      " #   Column                  Dtype  \n",
      "---  ------                  -----  \n",
      " 0   order_id                int64  \n",
      " 1   product_id              int64  \n",
      " 2   add_to_cart_order       int64  \n",
      " 3   user_id                 int64  \n",
      " 4   order_number            int64  \n",
      " 5   order_dow               int64  \n",
      " 6   order_hour_of_day       int64  \n",
      " 7   days_since_prior_order  float64\n",
      "dtypes: float64(1), int64(7)\n",
      "memory usage: 2.3 GB\n"
     ]
    }
   ],
   "source": [
    "ord_prod_ord = pd.merge(order_products, orders, on = \"order_id\")\n",
    "ord_prod_ord.info()"
   ]
  },
  {
   "cell_type": "code",
   "execution_count": 6,
   "metadata": {},
   "outputs": [
    {
     "data": {
      "text/plain": [
       "(33819106, 8)"
      ]
     },
     "execution_count": 6,
     "metadata": {},
     "output_type": "execute_result"
    }
   ],
   "source": [
    "ord_prod_ord.shape"
   ]
  },
  {
   "cell_type": "code",
   "execution_count": 7,
   "metadata": {},
   "outputs": [
    {
     "name": "stdout",
     "output_type": "stream",
     "text": [
      "<class 'pandas.core.frame.DataFrame'>\n",
      "Int64Index: 49688 entries, 0 to 49687\n",
      "Data columns (total 6 columns):\n",
      " #   Column         Non-Null Count  Dtype \n",
      "---  ------         --------------  ----- \n",
      " 0   aisle_id       49688 non-null  int64 \n",
      " 1   aisle          49688 non-null  object\n",
      " 2   product_id     49688 non-null  int64 \n",
      " 3   product_name   49688 non-null  object\n",
      " 4   department_id  49688 non-null  int64 \n",
      " 5   department     49688 non-null  object\n",
      "dtypes: int64(3), object(3)\n",
      "memory usage: 2.7+ MB\n"
     ]
    }
   ],
   "source": [
    "ais_prod_depart = pd.merge(aisles_products, departments, on=\"department_id\")\n",
    "ais_prod_depart.info()"
   ]
  },
  {
   "cell_type": "code",
   "execution_count": 8,
   "metadata": {},
   "outputs": [
    {
     "name": "stdout",
     "output_type": "stream",
     "text": [
      "<class 'pandas.core.frame.DataFrame'>\n",
      "Int64Index: 33819106 entries, 0 to 33819105\n",
      "Data columns (total 13 columns):\n",
      " #   Column                  Dtype  \n",
      "---  ------                  -----  \n",
      " 0   aisle_id                int64  \n",
      " 1   aisle                   object \n",
      " 2   product_id              int64  \n",
      " 3   product_name            object \n",
      " 4   department_id           int64  \n",
      " 5   department              object \n",
      " 6   order_id                int64  \n",
      " 7   add_to_cart_order       int64  \n",
      " 8   user_id                 int64  \n",
      " 9   order_number            int64  \n",
      " 10  order_dow               int64  \n",
      " 11  order_hour_of_day       int64  \n",
      " 12  days_since_prior_order  float64\n",
      "dtypes: float64(1), int64(9), object(3)\n",
      "memory usage: 3.5+ GB\n"
     ]
    }
   ],
   "source": [
    "new = pd.merge(ais_prod_depart, ord_prod_ord, on = \"product_id\")\n",
    "new.info()"
   ]
  },
  {
   "cell_type": "code",
   "execution_count": 9,
   "metadata": {},
   "outputs": [
    {
     "data": {
      "text/plain": [
       "1      3346083\n",
       "2      3182490\n",
       "3      2988129\n",
       "4      2773069\n",
       "5      2542770\n",
       "        ...   \n",
       "144          1\n",
       "140          1\n",
       "139          1\n",
       "138          1\n",
       "145          1\n",
       "Name: add_to_cart_order, Length: 145, dtype: int64"
      ]
     },
     "execution_count": 9,
     "metadata": {},
     "output_type": "execute_result"
    }
   ],
   "source": [
    "add_to_cart_order = new['add_to_cart_order']\n",
    "add_to_cart_order.value_counts()"
   ]
  },
  {
   "cell_type": "code",
   "execution_count": 10,
   "metadata": {},
   "outputs": [
    {
     "data": {
      "text/plain": [
       "count    3.381911e+07\n",
       "mean     8.367738e+00\n",
       "std      7.139540e+00\n",
       "min      1.000000e+00\n",
       "25%      3.000000e+00\n",
       "50%      6.000000e+00\n",
       "75%      1.100000e+01\n",
       "max      1.450000e+02\n",
       "Name: add_to_cart_order, dtype: float64"
      ]
     },
     "execution_count": 10,
     "metadata": {},
     "output_type": "execute_result"
    }
   ],
   "source": [
    "add_to_cart_order.describe()"
   ]
  },
  {
   "cell_type": "code",
   "execution_count": 11,
   "metadata": {
    "scrolled": true
   },
   "outputs": [
    {
     "data": {
      "image/png": "[encoded data removed]",
      "text/plain": [
       "<Figure size 1152x576 with 1 Axes>"
      ]
     },
     "metadata": {
      "needs_background": "light"
     },
     "output_type": "display_data"
    }
   ],
   "source": [
    "plt.figure(figsize=(16,8))\n",
    "add_to_cart_order.value_counts().head(5).plot.bar()\n",
    "plt.show()"
   ]
  },
  {
   "cell_type": "markdown",
   "metadata": {},
   "source": [
    "People usually order 1 product."
   ]
  },
  {
   "cell_type": "code",
   "execution_count": 12,
   "metadata": {},
   "outputs": [
    {
     "data": {
      "image/png": "[encoded data removed]",
      "text/plain": [
       "<Figure size 1152x576 with 1 Axes>"
      ]
     },
     "metadata": {
      "needs_background": "light"
     },
     "output_type": "display_data"
    }
   ],
   "source": [
    "plt.figure(figsize=(16,8))\n",
    "new['product_id'].value_counts().head(5).plot.bar()\n",
    "plt.show()"
   ]
  },
  {
   "cell_type": "markdown",
   "metadata": {},
   "source": [
    "Product_id 24852 is the product that customers order most."
   ]
  },
  {
   "cell_type": "markdown",
   "metadata": {},
   "source": [
    "3. Which product is most likely to be added first in cart?"
   ]
  },
  {
   "cell_type": "code",
   "execution_count": 23,
   "metadata": {},
   "outputs": [
    {
     "ename": "NameError",
     "evalue": "name 'DataFrame' is not defined",
     "output_type": "error",
     "traceback": [
      "\u001b[1;31m---------------------------------------------------------------------------\u001b[0m",
      "\u001b[1;31mNameError\u001b[0m                                 Traceback (most recent call last)",
      "\u001b[1;32m<ipython-input-23-0bbf6e36c972>\u001b[0m in \u001b[0;36m<module>\u001b[1;34m()\u001b[0m\n\u001b[0;32m      1\u001b[0m \u001b[1;31m# 满足 add_to_cart_order= 1 的 max(count(product_id))\u001b[0m\u001b[1;33m\u001b[0m\u001b[1;33m\u001b[0m\u001b[0m\n\u001b[1;32m----> 2\u001b[1;33m \u001b[0mnew2\u001b[0m \u001b[1;33m=\u001b[0m \u001b[0mDataFrame\u001b[0m\u001b[1;33m(\u001b[0m\u001b[0mnew\u001b[0m\u001b[1;33m,\u001b[0m \u001b[0mnew\u001b[0m\u001b[1;33m[\u001b[0m\u001b[1;34m'add_to_cart_order'\u001b[0m\u001b[1;33m]\u001b[0m \u001b[1;33m<=\u001b[0m \u001b[1;36m1\u001b[0m\u001b[1;33m)\u001b[0m\u001b[1;33m\u001b[0m\u001b[0m\n\u001b[0m\u001b[0;32m      3\u001b[0m \u001b[1;33m\u001b[0m\u001b[0m\n\u001b[0;32m      4\u001b[0m \u001b[0mplt\u001b[0m\u001b[1;33m.\u001b[0m\u001b[0mfigure\u001b[0m\u001b[1;33m(\u001b[0m\u001b[0mfigsize\u001b[0m\u001b[1;33m=\u001b[0m\u001b[1;33m(\u001b[0m\u001b[1;36m16\u001b[0m\u001b[1;33m,\u001b[0m\u001b[1;36m8\u001b[0m\u001b[1;33m)\u001b[0m\u001b[1;33m)\u001b[0m\u001b[1;33m\u001b[0m\u001b[0m\n\u001b[0;32m      5\u001b[0m \u001b[0mnew2\u001b[0m\u001b[1;33m[\u001b[0m\u001b[1;34m'product_id'\u001b[0m\u001b[1;33m]\u001b[0m\u001b[1;33m.\u001b[0m\u001b[0mvalue_counts\u001b[0m\u001b[1;33m(\u001b[0m\u001b[1;33m)\u001b[0m\u001b[1;33m.\u001b[0m\u001b[0mhead\u001b[0m\u001b[1;33m(\u001b[0m\u001b[1;36m5\u001b[0m\u001b[1;33m)\u001b[0m\u001b[1;33m.\u001b[0m\u001b[0mplot\u001b[0m\u001b[1;33m.\u001b[0m\u001b[0mbar\u001b[0m\u001b[1;33m(\u001b[0m\u001b[1;33m)\u001b[0m\u001b[1;33m\u001b[0m\u001b[0m\n",
      "\u001b[1;31mNameError\u001b[0m: name 'DataFrame' is not defined"
     ]
    }
   ],
   "source": [
    "# 满足 add_to_cart_order= 1 的 max(count(product_id))\n",
    "new2 = DataFrame(new, new['add_to_cart_order'] <= 1)\n",
    "\n",
    "plt.figure(figsize=(16,8))\n",
    "new2['product_id'].value_counts().head(5).plot.bar()\n",
    "plt.show()"
   ]
  },
  {
   "cell_type": "code",
   "execution_count": null,
   "metadata": {},
   "outputs": [],
   "source": [
    "plt.figure(figsize=(16,8))\n",
    "new['product_id'].value_counts().head(5).plot.bar()\n",
    "plt.show()"
   ]
  },
  {
   "cell_type": "markdown",
   "metadata": {},
   "source": [
    "Product_id is most likely to be added first in cart. "
   ]
  },
  {
   "cell_type": "code",
   "execution_count": 14,
   "metadata": {},
   "outputs": [
    {
     "data": {
      "text/plain": [
       "<bound method NDFrame.describe of 0           0\n",
       "1           0\n",
       "2           2\n",
       "3           2\n",
       "4           5\n",
       "           ..\n",
       "33819101    1\n",
       "33819102    2\n",
       "33819103    1\n",
       "33819104    1\n",
       "33819105    4\n",
       "Name: order_dow, Length: 33819106, dtype: int64>"
      ]
     },
     "execution_count": 14,
     "metadata": {},
     "output_type": "execute_result"
    }
   ],
   "source": [
    "# order_dow\n",
    "new['order_dow'].describe"
   ]
  },
  {
   "cell_type": "code",
   "execution_count": 15,
   "metadata": {},
   "outputs": [
    {
     "data": {
      "image/png": "[encoded data removed]",
      "text/plain": [
       "<Figure size 1152x576 with 1 Axes>"
      ]
     },
     "metadata": {
      "needs_background": "light"
     },
     "output_type": "display_data"
    }
   ],
   "source": [
    "plt.figure(figsize=(16,8))\n",
    "new['order_dow'].value_counts().head(5).plot.bar()\n",
    "plt.show()"
   ]
  },
  {
   "cell_type": "markdown",
   "metadata": {},
   "source": [
    "People usually order on Sunday."
   ]
  },
  {
   "cell_type": "code",
   "execution_count": 16,
   "metadata": {},
   "outputs": [
    {
     "ename": "SyntaxError",
     "evalue": "invalid syntax (<ipython-input-16-bf01548b6b5b>, line 1)",
     "output_type": "error",
     "traceback": [
      "\u001b[1;36m  File \u001b[1;32m\"<ipython-input-16-bf01548b6b5b>\"\u001b[1;36m, line \u001b[1;32m1\u001b[0m\n\u001b[1;33m    while order_dow = 0:\u001b[0m\n\u001b[1;37m                    ^\u001b[0m\n\u001b[1;31mSyntaxError\u001b[0m\u001b[1;31m:\u001b[0m invalid syntax\n"
     ]
    }
   ],
   "source": [
    "while order_dow = 0:\n",
    "    plt.figure(figsize=(16,8))\n",
    "    new['order_hour_of_day'].value_counts().head(5).plot.bar()\n",
    "    plt.show()\n"
   ]
  },
  {
   "cell_type": "code",
   "execution_count": null,
   "metadata": {},
   "outputs": [],
   "source": []
  }
 ],
 "metadata": {
  "kernelspec": {
   "display_name": "Python 3",
   "language": "python",
   "name": "python3"
  },
  "language_info": {
   "codemirror_mode": {
    "name": "ipython",
    "version": 3
   },
   "file_extension": ".py",
   "mimetype": "text/x-python",
   "name": "python",
   "nbconvert_exporter": "python",
   "pygments_lexer": "ipython3",
   "version": "3.7.0"
  }
 },
 "nbformat": 4,
 "nbformat_minor": 2
}
