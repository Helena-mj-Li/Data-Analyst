{
 "cells": [
  {
   "cell_type": "markdown",
   "metadata": {},
   "source": [
    "1. Use Python to generate two data set and plot them, one of them should be left skewed and another one right skewed."
   ]
  },
  {
   "cell_type": "code",
   "execution_count": 5,
   "metadata": {},
   "outputs": [],
   "source": [
    "import numpy as np\n",
    "import scipy as sp\n",
    "from scipy import stats\n",
    "import matplotlib.pyplot as plt "
   ]
  },
  {
   "cell_type": "code",
   "execution_count": 10,
   "metadata": {},
   "outputs": [
    {
     "name": "stdout",
     "output_type": "stream",
     "text": [
      "[ -19.19349386   46.13080664   54.57253029  -36.22276504  -70.35161274\n",
      "   14.70950325  -52.42340529   35.96858678   38.03052789   27.30160144\n",
      "   -1.82132416   -7.74012327  -42.20917614  -28.94558482  153.62211224\n",
      " -114.31039673  126.66103849   34.64836657   30.51737029   44.26135175\n",
      "  -62.43705057   89.86318749  -35.69790218   23.70045488   89.80260578\n",
      "  -21.63010755    2.42433357   -5.01999513  -11.32968378   40.92218476\n",
      "    3.84802485  -38.65255064   12.70770745   72.12336106   95.27920794\n",
      "   44.74763373    3.90639665 -108.7987627     6.22844654   57.02935795\n",
      "   37.21412369  -22.77557652   23.69657097  -51.2255982   135.12192498\n",
      "   22.12860622   41.59955216    2.80353973   88.72529227   77.36503562\n",
      "  -22.27560653  -42.47768371   47.0475296   -17.89221375   70.43132208\n",
      "    5.90656516   50.31077342  -18.90030619   14.85301255  -18.17427032\n",
      "   45.13958817  -29.6851924    37.37705453    3.47308674  -22.11690119\n",
      "  -75.18475702   30.47311691   22.11959091   62.93376063   23.17025878\n",
      "   56.97404737   45.03627899   45.66790467   17.16749655   27.91653476\n",
      "   32.62215524   44.38747058   50.34037172  -20.61163411  -22.61781529\n",
      "  -40.41660187   -6.20215836   72.27295789  -24.68646151  -48.41277821\n",
      "    7.36024151   21.26338856   27.92837947   15.41145493   62.87551153\n",
      "  -24.24447963  -21.07498593  -44.51139041  -67.81095755   13.97039071\n",
      "  -18.20493178   58.17951884  -37.88178751  -70.1144319    36.59220331]\n",
      "12.025808555026924 48.89214868656455\n"
     ]
    },
    {
     "data": {
      "text/plain": [
       "Text(0, 0.5, 'probability')"
      ]
     },
     "execution_count": 10,
     "metadata": {},
     "output_type": "execute_result"
    },
    {
     "data": {
      "image/png": "[encoded data removed]",
      "text/plain": [
       "<Figure size 432x288 with 1 Axes>"
      ]
     },
     "metadata": {
      "needs_background": "light"
     },
     "output_type": "display_data"
    }
   ],
   "source": [
    "import pandas as pd\n",
    "import numpy as np\n",
    "import matplotlib.pyplot as plt\n",
    " \n",
    " \n",
    "# 根据均值、标准差,求指定范围的正态分布概率值\n",
    "def normfun(x, mu, sigma):\n",
    "  pdf = np.exp(-((x - mu)**2)/(2*sigma**2)) / (sigma * np.sqrt(2*np.pi))\n",
    "  return pdf\n",
    " \n",
    " \n",
    "# result = np.random.randint(-65, 80, size=100) # 最小值,最大值,数量\n",
    "result = np.random.normal(15, 44, 100) # 均值为0.5,方差为1\n",
    "print(result)\n",
    " \n",
    "x = np.arange(min(result), max(result), 0.1)\n",
    "# 设定 y 轴，载入刚才的正态分布函数\n",
    "print(result.mean(), result.std())\n",
    "y = normfun(x, result.mean(), result.std())\n",
    "plt.plot(x, y) # 这里画出理论的正态分布概率曲线\n",
    " \n",
    "# 这里画出实际的参数概率与取值关系\n",
    "plt.hist(result, bins=10, rwidth=0.8, density=True) # bins个柱状图,宽度是rwidth(0~1),=1没有缝隙\n",
    "plt.title('distribution')\n",
    "plt.xlabel('temperature')\n",
    "plt.ylabel('probability')\n",
    "# 输出"
   ]
  },
  {
   "cell_type": "code",
   "execution_count": null,
   "metadata": {},
   "outputs": [],
   "source": []
  },
  {
   "cell_type": "code",
   "execution_count": null,
   "metadata": {},
   "outputs": [],
   "source": []
  },
  {
   "cell_type": "code",
   "execution_count": null,
   "metadata": {},
   "outputs": [],
   "source": []
  }
 ],
 "metadata": {
  "kernelspec": {
   "display_name": "Python 3",
   "language": "python",
   "name": "python3"
  },
  "language_info": {
   "codemirror_mode": {
    "name": "ipython",
    "version": 3
   },
   "file_extension": ".py",
   "mimetype": "text/x-python",
   "name": "python",
   "nbconvert_exporter": "python",
   "pygments_lexer": "ipython3",
   "version": "3.7.0"
  }
 },
 "nbformat": 4,
 "nbformat_minor": 2
}
